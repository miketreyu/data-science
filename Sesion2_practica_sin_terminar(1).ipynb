{
  "cells": [
    {
      "cell_type": "markdown",
      "metadata": {
        "id": "view-in-github",
        "colab_type": "text"
      },
      "source": [
        "<a href=\"https://colab.research.google.com/github/miketreyu/data-science/blob/main/Sesion2_practica_sin_terminar(1).ipynb\" target=\"_parent\"><img src=\"https://colab.research.google.com/assets/colab-badge.svg\" alt=\"Open In Colab\"/></a>"
      ]
    },
    {
      "cell_type": "markdown",
      "metadata": {
        "id": "loP_9sANuj-p"
      },
      "source": [
        "Vamos a aprender a utilizar Pytorch con operaciones que nos demuestren las ventajas de su uso.\n",
        "\n",
        "1.1. Crea un array de NumPy y un tensor de Pytorch en base a la siguiente lista de Python:"
      ]
    },
    {
      "cell_type": "code",
      "execution_count": 1,
      "metadata": {
        "id": "TGBP2spEuj-r"
      },
      "outputs": [],
      "source": [
        "import random\n",
        "import numpy as np\n",
        "import torch\n",
        "\n",
        "seed = 64\n",
        "random.seed(seed)\n",
        "lista = [[float(random.randint(0, 9)) for i in range(0, 5000)] for i in range(0, 5000)]\n",
        "np_array = np.array(lista)\n",
        "t_tensor = torch.tensor(np_array, dtype=torch.float32)\n",
        "\n"
      ]
    },
    {
      "cell_type": "markdown",
      "metadata": {
        "id": "GQvTQUnF5J5c"
      },
      "source": [
        "1.2. Completa la función \"inverse_numpy\". Esta función deberá recibir como parámetro un array de numpy de dos dimensiones, y devolver la matriz inversa correspondiente, utilizando numpy. Utilízala para invertir `np_array`."
      ]
    },
    {
      "cell_type": "code",
      "execution_count": 2,
      "metadata": {
        "id": "TF5UoOzc1xwU",
        "colab": {
          "base_uri": "https://localhost:8080/",
          "height": 211
        },
        "outputId": "fd66259e-213d-4261-eb34-2e896aa1cf75"
      },
      "outputs": [
        {
          "output_type": "error",
          "ename": "NameError",
          "evalue": "name 'np' is not defined",
          "traceback": [
            "\u001b[0;31m---------------------------------------------------------------------------\u001b[0m",
            "\u001b[0;31mNameError\u001b[0m                                 Traceback (most recent call last)",
            "\u001b[0;32m<ipython-input-2-ff48c62e5a34>\u001b[0m in \u001b[0;36m<cell line: 1>\u001b[0;34m()\u001b[0m\n\u001b[0;32m----> 1\u001b[0;31m \u001b[0;32mdef\u001b[0m \u001b[0minverse_numpy_l\u001b[0m\u001b[0;34m(\u001b[0m\u001b[0marray\u001b[0m\u001b[0;34m:\u001b[0m \u001b[0mnp\u001b[0m\u001b[0;34m.\u001b[0m\u001b[0marray\u001b[0m\u001b[0;34m)\u001b[0m \u001b[0;34m->\u001b[0m \u001b[0mnp\u001b[0m\u001b[0;34m.\u001b[0m\u001b[0marray\u001b[0m\u001b[0;34m:\u001b[0m\u001b[0;34m\u001b[0m\u001b[0;34m\u001b[0m\u001b[0m\n\u001b[0m\u001b[1;32m      2\u001b[0m     \"\"\"\n\u001b[1;32m      3\u001b[0m     \u001b[0mEsta\u001b[0m \u001b[0mfunción\u001b[0m \u001b[0mrecibe\u001b[0m \u001b[0mun\u001b[0m \u001b[0marray\u001b[0m \u001b[0mde\u001b[0m \u001b[0mnumpy\u001b[0m \u001b[0mde\u001b[0m \u001b[0mdos\u001b[0m \u001b[0mdimensiones\u001b[0m\u001b[0;34m\u001b[0m\u001b[0;34m\u001b[0m\u001b[0m\n\u001b[1;32m      4\u001b[0m     \u001b[0my\u001b[0m \u001b[0mdevuelve\u001b[0m \u001b[0mla\u001b[0m \u001b[0mmatriz\u001b[0m \u001b[0minversa\u001b[0m \u001b[0mcorrespondiente\u001b[0m\u001b[0;34m.\u001b[0m\u001b[0;34m\u001b[0m\u001b[0;34m\u001b[0m\u001b[0m\n\u001b[1;32m      5\u001b[0m \u001b[0;34m\u001b[0m\u001b[0m\n",
            "\u001b[0;31mNameError\u001b[0m: name 'np' is not defined"
          ]
        }
      ],
      "source": [
        "def inverse_numpy(array: np.array) -> np.array:\n",
        "    \"\"\"\n",
        "    Esta función recibe un array de numpy de dos dimensiones\n",
        "    y devuelve la matriz inversa correspondiente.\n",
        "\n",
        "    Parámetros:\n",
        "    array (np.array): Matriz de entrada.\n",
        "\n",
        "    Returns:\n",
        "    np.array: Matriz inversa de la entrada.\n",
        "    \"\"\"\n",
        "    return np.linalg.inv(array)\n",
        "\n",
        "np_array_inv = inverse_numpy(np_array)\n",
        "\n"
      ]
    },
    {
      "cell_type": "markdown",
      "metadata": {
        "id": "vNPZbM0B5cTE"
      },
      "source": [
        "1.3. Completa la función \"inverse_torch\". Esta función deberá recibir como parámetro un tensor de torch de dos dimensiones y el dispositivo en el que ejecutar la operación, y devolver la matriz inversa correspondiente, utilizando torch. Utilízala para invertir `t_tensor`."
      ]
    },
    {
      "cell_type": "code",
      "execution_count": 6,
      "metadata": {
        "id": "G4Fx6J6X2nlv",
        "colab": {
          "base_uri": "https://localhost:8080/"
        },
        "outputId": "34ff48b2-41ed-46a2-a3b6-951f87c642d2"
      },
      "outputs": [
        {
          "output_type": "stream",
          "name": "stdout",
          "text": [
            "tensor([[ 9.4227e-03,  1.5325e-03, -5.9567e-04,  ..., -3.4978e-03,\n",
            "          3.3604e-03, -5.7445e-03],\n",
            "        [-2.0682e-05,  2.5677e-03,  3.0248e-03,  ..., -9.7142e-05,\n",
            "          2.5897e-03, -1.7479e-03],\n",
            "        [ 1.1557e-03,  9.0693e-04, -1.5543e-03,  ..., -2.2089e-04,\n",
            "         -1.2010e-03, -4.1960e-04],\n",
            "        ...,\n",
            "        [-4.9247e-03, -2.3191e-03,  7.6789e-03,  ..., -9.3756e-04,\n",
            "          4.3603e-03, -4.6544e-03],\n",
            "        [-2.7706e-03,  2.4509e-03,  3.7010e-03,  ...,  8.3992e-04,\n",
            "          3.1883e-03, -5.1375e-04],\n",
            "        [ 7.6167e-04,  7.5150e-05, -6.1954e-03,  ...,  9.2874e-04,\n",
            "         -1.0212e-03,  4.0348e-04]])\n"
          ]
        }
      ],
      "source": [
        "def inverse_torch(tensor: torch.tensor, device: str) -> torch.tensor:\n",
        "    \"\"\"\n",
        "    Esta función recibe un tensor de PyTorch y devuelve la matriz inversa correspondiente.\n",
        "\n",
        "    Parámetros:\n",
        "    tensor (torch.Tensor): Matriz de entrada.\n",
        "    device (str): Dispositivo en el que realizar el cálculo ('cpu' o 'cuda').\n",
        "\n",
        "    Returns:\n",
        "    torch.Tensor: Matriz inversa de la entrada.\n",
        "    \"\"\"\n",
        "    # Verificar si el dispositivo es válido\n",
        "    if device not in ['cpu', 'cuda']:\n",
        "        raise ValueError(\"El dispositivo debe ser 'cpu' o 'cuda'.\")\n",
        "\n",
        "    # Mover el tensor al dispositivo especificado\n",
        "    tensor = tensor.to(device)\n",
        "\n",
        "    # Calcular la inversa utilizando PyTorch\n",
        "    try:\n",
        "        inv_tensor = torch.inverse(tensor)\n",
        "    except RuntimeError as e:\n",
        "        print(f\"Error al calcular la inversa: {e}\")\n",
        "        return None\n",
        "\n",
        "    return inv_tensor\n",
        "\n",
        "# Calcular la inversa en la CPU\n",
        "inv_tensor_cpu = inverse_torch(t_tensor, 'cpu')\n",
        "print(inv_tensor_cpu)\n",
        "\n",
        "# Si tienes una GPU disponible, también puedes calcular la inversa en la GPU\n",
        "if torch.cuda.is_available():\n",
        "    inv_tensor_cuda = inverse_torch(t_tensor, 'cuda')\n",
        "    print(inv_tensor_cuda)"
      ]
    },
    {
      "cell_type": "markdown",
      "metadata": {
        "id": "npFTh3Bb5oHq"
      },
      "source": [
        "1.4. Utiliza la siguiente función para comparar cuánto tardan las funciones que has creado. Compara inverse_numpy contra inverse_torch en cpu contra inverse_torch en CUDA."
      ]
    },
    {
      "cell_type": "code",
      "execution_count": 1,
      "metadata": {
        "id": "pj1Qg8uL3Nal",
        "colab": {
          "base_uri": "https://localhost:8080/",
          "height": 356
        },
        "outputId": "28ab8532-af35-47c4-fb07-9d0201c9b994"
      },
      "outputs": [
        {
          "output_type": "error",
          "ename": "NameError",
          "evalue": "name 'inverse_numpy' is not defined",
          "traceback": [
            "\u001b[0;31m---------------------------------------------------------------------------\u001b[0m",
            "\u001b[0;31mNameError\u001b[0m                                 Traceback (most recent call last)",
            "\u001b[0;32m<ipython-input-1-a248055d1b65>\u001b[0m in \u001b[0;36m<cell line: 14>\u001b[0;34m()\u001b[0m\n\u001b[1;32m     12\u001b[0m \u001b[0minverse_torch_gpu\u001b[0m \u001b[0;34m=\u001b[0m \u001b[0;32mlambda\u001b[0m\u001b[0;34m:\u001b[0m \u001b[0minverse_torch\u001b[0m\u001b[0;34m(\u001b[0m\u001b[0mt_tensor\u001b[0m\u001b[0;34m,\u001b[0m \u001b[0;34m\"cuda\"\u001b[0m\u001b[0;34m)\u001b[0m\u001b[0;34m\u001b[0m\u001b[0;34m\u001b[0m\u001b[0m\n\u001b[1;32m     13\u001b[0m \u001b[0;34m\u001b[0m\u001b[0m\n\u001b[0;32m---> 14\u001b[0;31m \u001b[0mtime_inverses\u001b[0m\u001b[0;34m(\u001b[0m\u001b[0minverse_numpy_l\u001b[0m\u001b[0;34m)\u001b[0m\u001b[0;34m\u001b[0m\u001b[0;34m\u001b[0m\u001b[0m\n\u001b[0m\u001b[1;32m     15\u001b[0m \u001b[0mtime_inverses\u001b[0m\u001b[0;34m(\u001b[0m\u001b[0minverse_torch_cpu\u001b[0m\u001b[0;34m)\u001b[0m\u001b[0;34m\u001b[0m\u001b[0;34m\u001b[0m\u001b[0m\n\u001b[1;32m     16\u001b[0m \u001b[0mtime_inverses\u001b[0m\u001b[0;34m(\u001b[0m\u001b[0minverse_torch_gpu\u001b[0m\u001b[0;34m)\u001b[0m\u001b[0;34m\u001b[0m\u001b[0;34m\u001b[0m\u001b[0m\n",
            "\u001b[0;32m<ipython-input-1-a248055d1b65>\u001b[0m in \u001b[0;36mtime_inverses\u001b[0;34m(inv_function)\u001b[0m\n\u001b[1;32m      3\u001b[0m \u001b[0;32mdef\u001b[0m \u001b[0mtime_inverses\u001b[0m\u001b[0;34m(\u001b[0m\u001b[0minv_function\u001b[0m\u001b[0;34m)\u001b[0m\u001b[0;34m:\u001b[0m\u001b[0;34m\u001b[0m\u001b[0;34m\u001b[0m\u001b[0m\n\u001b[1;32m      4\u001b[0m     \u001b[0mstart_time\u001b[0m \u001b[0;34m=\u001b[0m \u001b[0mtimer\u001b[0m\u001b[0;34m(\u001b[0m\u001b[0;34m)\u001b[0m\u001b[0;34m\u001b[0m\u001b[0;34m\u001b[0m\u001b[0m\n\u001b[0;32m----> 5\u001b[0;31m     \u001b[0minv_function\u001b[0m\u001b[0;34m(\u001b[0m\u001b[0;34m)\u001b[0m\u001b[0;34m\u001b[0m\u001b[0;34m\u001b[0m\u001b[0m\n\u001b[0m\u001b[1;32m      6\u001b[0m     \u001b[0mend_time\u001b[0m \u001b[0;34m=\u001b[0m \u001b[0mtimer\u001b[0m\u001b[0;34m(\u001b[0m\u001b[0;34m)\u001b[0m\u001b[0;34m\u001b[0m\u001b[0;34m\u001b[0m\u001b[0m\n\u001b[1;32m      7\u001b[0m     \u001b[0mtime_taken\u001b[0m \u001b[0;34m=\u001b[0m \u001b[0mend_time\u001b[0m \u001b[0;34m-\u001b[0m \u001b[0mstart_time\u001b[0m\u001b[0;34m\u001b[0m\u001b[0;34m\u001b[0m\u001b[0m\n",
            "\u001b[0;32m<ipython-input-1-a248055d1b65>\u001b[0m in \u001b[0;36m<lambda>\u001b[0;34m()\u001b[0m\n\u001b[1;32m      8\u001b[0m     \u001b[0mprint\u001b[0m\u001b[0;34m(\u001b[0m\u001b[0;34mf\"tiempo: {time_taken}\"\u001b[0m\u001b[0;34m)\u001b[0m\u001b[0;34m\u001b[0m\u001b[0;34m\u001b[0m\u001b[0m\n\u001b[1;32m      9\u001b[0m \u001b[0;34m\u001b[0m\u001b[0m\n\u001b[0;32m---> 10\u001b[0;31m \u001b[0minverse_numpy_l\u001b[0m \u001b[0;34m=\u001b[0m \u001b[0;32mlambda\u001b[0m\u001b[0;34m:\u001b[0m \u001b[0minverse_numpy\u001b[0m\u001b[0;34m(\u001b[0m\u001b[0mt_tensor\u001b[0m\u001b[0;34m)\u001b[0m\u001b[0;34m\u001b[0m\u001b[0;34m\u001b[0m\u001b[0m\n\u001b[0m\u001b[1;32m     11\u001b[0m \u001b[0minverse_torch_cpu\u001b[0m \u001b[0;34m=\u001b[0m \u001b[0;32mlambda\u001b[0m\u001b[0;34m:\u001b[0m \u001b[0minverse_torch\u001b[0m\u001b[0;34m(\u001b[0m\u001b[0mt_tensor\u001b[0m\u001b[0;34m,\u001b[0m \u001b[0;34m\"cpu\"\u001b[0m\u001b[0;34m)\u001b[0m\u001b[0;34m\u001b[0m\u001b[0;34m\u001b[0m\u001b[0m\n\u001b[1;32m     12\u001b[0m \u001b[0minverse_torch_gpu\u001b[0m \u001b[0;34m=\u001b[0m \u001b[0;32mlambda\u001b[0m\u001b[0;34m:\u001b[0m \u001b[0minverse_torch\u001b[0m\u001b[0;34m(\u001b[0m\u001b[0mt_tensor\u001b[0m\u001b[0;34m,\u001b[0m \u001b[0;34m\"cuda\"\u001b[0m\u001b[0;34m)\u001b[0m\u001b[0;34m\u001b[0m\u001b[0;34m\u001b[0m\u001b[0m\n",
            "\u001b[0;31mNameError\u001b[0m: name 'inverse_numpy' is not defined"
          ]
        }
      ],
      "source": [
        "from timeit import default_timer as timer\n",
        "\n",
        "def time_inverses(inv_function):\n",
        "    start_time = timer()\n",
        "    inv_function()\n",
        "    end_time = timer()\n",
        "    time_taken = end_time - start_time\n",
        "    print(f\"tiempo: {time_taken}\")\n",
        "\n",
        "inverse_numpy_l = lambda: inverse_numpy(t_tensor)\n",
        "inverse_torch_cpu = lambda: inverse_torch(t_tensor, \"cpu\")\n",
        "inverse_torch_gpu = lambda: inverse_torch(t_tensor, \"cuda\")\n",
        "\n",
        "time_inverses(inverse_numpy_l)\n",
        "time_inverses(inverse_torch_cpu)\n",
        "time_inverses(inverse_torch_gpu)\n",
        "\n",
        "\n",
        "\n",
        "\n"
      ]
    },
    {
      "cell_type": "markdown",
      "metadata": {
        "id": "mUIvFrMrAeAj"
      },
      "source": [
        "# Entrenar un modelo multicapa\n",
        "\n",
        "Vamos a utilizar un modelo multicapa para predecir sobre el dataset iris de sklearn. Primero, ejecuta la siguiente celda para conseguir la X y la y."
      ]
    },
    {
      "cell_type": "code",
      "execution_count": null,
      "metadata": {
        "id": "DJVdJTk2AgN8"
      },
      "outputs": [],
      "source": [
        "# ----------- Ejecuta esta celda ----------- #\n",
        "\n",
        "from sklearn.datasets import load_iris\n",
        "from sklearn.model_selection import train_test_split\n",
        "\n",
        "iris = load_iris()\n",
        "X = iris['data']\n",
        "y = iris['target']\n",
        "\n",
        "X_train, X_test, y_train, y_test = train_test_split(\n",
        "    X, y, test_size=1./3, random_state=1)\n",
        "\n",
        "torch.manual_seed(1)\n",
        "\n",
        "X_train_norm = (X_train - np.mean(X_train)) / np.std(X_train)\n"
      ]
    },
    {
      "cell_type": "markdown",
      "metadata": {
        "id": "diUlvVveBIzZ"
      },
      "source": [
        "2.1. Convierte la X_train_norm y la y_train en un [TensorDataset](https://pytorch.org/docs/stable/data.html?highlight=tensordataset#torch.utils.data.TensorDataset) de torch. Recuerda que primero debes convertir la X y la y en tensores. Después, introduce ese dataset en un [DataLoader](https://pytorch.org/docs/stable/data.html?highlight=dataloader#torch.utils.data.DataLoader) de torch, con batch_size de 2 y shuffle igual a True."
      ]
    },
    {
      "cell_type": "code",
      "execution_count": null,
      "metadata": {
        "id": "Q1_kRhmaAmWn"
      },
      "outputs": [],
      "source": [
        "from torch.utils.data import TensorDataset\n",
        "from torch.utils.data import DataLoader\n",
        "\n"
      ]
    },
    {
      "cell_type": "markdown",
      "metadata": {
        "id": "3Wz5olPKCSSR"
      },
      "source": [
        "2.2. Construye el modelo. Este debe tener dos capas [lineales y completamente conectadas](https://pytorch.org/docs/stable/generated/torch.nn.Linear.html).\n",
        "- Primero, construye cada capa dentro del método `__init__()` como atributos de la clase (recuerda que para ello, debes escribir `self` delante del nombre de la variable, como el `this` en Java).\n",
        "- Después, en el método `forward`, aplica primero la operación de la capa y después la función de activación, para cada una de las dos capas. La función de activación de la capa uno deberá ser una [sigmoide](https://pytorch.org/docs/stable/generated/torch.nn.Sigmoid.html), y la de la capa 2, una [Softmax con dim=1](https://pytorch.org/docs/stable/generated/torch.nn.Softmax.html)."
      ]
    },
    {
      "cell_type": "code",
      "execution_count": null,
      "metadata": {
        "id": "EX12dFYsApJV"
      },
      "outputs": [],
      "source": [
        "class Model(nn.Module):\n",
        "    def __init__(self, input_size, hidden_size, output_size):\n",
        "        super().__init__()\n",
        "        # La definición de las capas va aquí\n",
        "        self.layer1 =\n",
        "        self.layer2 =\n",
        "\n",
        "    def forward(self, x):\n",
        "        # El proceso a través de las capas va aquí\n",
        "        return x"
      ]
    },
    {
      "cell_type": "markdown",
      "metadata": {
        "id": "25Ycla9LD_Wr"
      },
      "source": [
        "2.3. Define el tamaño de las capas. El tamaño de `input_size` viene dado por X. El de la capa oculta debe ser 16, y el de la capa de salida debe ser 3, ya que nuestra clase tiene tres valores posibles. Usa estos valores para construir un modelo con la clase `Model`."
      ]
    },
    {
      "cell_type": "code",
      "execution_count": null,
      "metadata": {
        "id": "ZMTpI4NuEO80"
      },
      "outputs": [],
      "source": [
        "input_size = X_train_norm.shape[1]\n",
        "hidden_size =\n",
        "output_size =\n",
        "\n",
        "model ="
      ]
    },
    {
      "cell_type": "markdown",
      "metadata": {
        "id": "LsgiaFEpExy2"
      },
      "source": [
        "2.4. Define el learning_rate, la función de pérdida, y el optimizador.\n",
        "- El learning_rate deberá ser 0.001.\n",
        "- La función de pérdida deberá ser la de [entropía cruzada](https://pytorch.org/docs/stable/generated/torch.nn.CrossEntropyLoss.html)."
      ]
    },
    {
      "cell_type": "code",
      "execution_count": null,
      "metadata": {
        "id": "8DxVbP1fFI5y"
      },
      "outputs": [],
      "source": [
        "learning_rate =\n",
        "loss_fn =\n",
        "\n",
        "optimizer = torch.optim.Adam(model.parameters(), lr=learning_rate)"
      ]
    },
    {
      "cell_type": "markdown",
      "metadata": {
        "id": "Rx6JEe4jFV8z"
      },
      "source": [
        "2.5. Ejecuta el siguiente código para entrenar el modelo con los parámetros que has definido. Míralo con detenimiento para comprender qué está pasando."
      ]
    },
    {
      "cell_type": "code",
      "execution_count": null,
      "metadata": {
        "id": "GrqU0k8PAtJa"
      },
      "outputs": [],
      "source": [
        "num_epochs = 100\n",
        "loss_hist = [0] * num_epochs\n",
        "accuracy_hist = [0] * num_epochs\n",
        "\n",
        "for epoch in range(num_epochs):\n",
        "\n",
        "    for x_batch, y_batch in train_dl:\n",
        "        pred = model(x_batch)\n",
        "        loss = loss_fn(pred, y_batch.long())\n",
        "        loss.backward()\n",
        "        optimizer.step()\n",
        "        optimizer.zero_grad()\n",
        "\n",
        "        loss_hist[epoch] += loss.item()*y_batch.size(0)\n",
        "        is_correct = (torch.argmax(pred, dim=1) == y_batch).float()\n",
        "        accuracy_hist[epoch] += is_correct.sum()\n",
        "\n",
        "    loss_hist[epoch] /= len(train_dl.dataset)\n",
        "    accuracy_hist[epoch] /= len(train_dl.dataset)"
      ]
    },
    {
      "cell_type": "markdown",
      "metadata": {
        "id": "bRCTX1iwFd-8"
      },
      "source": [
        "2.6. Ejecuta esta celda para ver cómo progresa tu modelo a lo largo de cada época."
      ]
    },
    {
      "cell_type": "code",
      "execution_count": null,
      "metadata": {
        "id": "yt0FS4wUA0Gh"
      },
      "outputs": [],
      "source": [
        "fig = plt.figure(figsize=(12, 5))\n",
        "ax = fig.add_subplot(1, 2, 1)\n",
        "ax.plot(loss_hist, lw=3)\n",
        "ax.set_title('Training loss', size=15)\n",
        "ax.set_xlabel('Epoch', size=15)\n",
        "ax.tick_params(axis='both', which='major', labelsize=15)\n",
        "\n",
        "ax = fig.add_subplot(1, 2, 2)\n",
        "ax.plot(accuracy_hist, lw=3)\n",
        "ax.set_title('Training accuracy', size=15)\n",
        "ax.set_xlabel('Epoch', size=15)\n",
        "ax.tick_params(axis='both', which='major', labelsize=15)\n",
        "plt.tight_layout()\n",
        "\n",
        "#plt.savefig('figures/12_09.pdf')\n",
        "\n",
        "plt.show()"
      ]
    },
    {
      "cell_type": "markdown",
      "metadata": {
        "id": "LxyUnVInxCop"
      },
      "source": [
        "2.7. Utiliza el método `predict` del modelo para predecir sobre `X_test`. Recuerda que primero debes normalizar la X. Puedes ver cómo hacerlo en el apartado 2.1. Una vez lo tengas, utiliza el método [confusion_matrix](https://scikit-learn.org/stable/modules/generated/sklearn.metrics.confusion_matrix.html) para obtener una matriz de confusión y evaluar tu modelo."
      ]
    },
    {
      "cell_type": "code",
      "execution_count": null,
      "metadata": {
        "id": "2FJ31rDWrxfX"
      },
      "outputs": [],
      "source": [
        "from sklearn.metrics import confusion_matrix, ConfusionMatrixDisplay\n",
        "\n"
      ]
    }
  ],
  "metadata": {
    "colab": {
      "provenance": [],
      "include_colab_link": true
    },
    "kernelspec": {
      "display_name": "Python 3.10.6 64-bit",
      "language": "python",
      "name": "python3"
    },
    "language_info": {
      "name": "python",
      "version": "3.10.6"
    },
    "vscode": {
      "interpreter": {
        "hash": "e7370f93d1d0cde622a1f8e1c04877d8463912d04d973331ad4851f04de6915a"
      }
    }
  },
  "nbformat": 4,
  "nbformat_minor": 0
}