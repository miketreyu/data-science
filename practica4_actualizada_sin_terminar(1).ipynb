{
  "nbformat": 4,
  "nbformat_minor": 0,
  "metadata": {
    "colab": {
      "provenance": [],
      "include_colab_link": true
    },
    "kernelspec": {
      "name": "python3",
      "display_name": "Python 3"
    },
    "language_info": {
      "name": "python"
    }
  },
  "cells": [
    {
      "cell_type": "markdown",
      "metadata": {
        "id": "view-in-github",
        "colab_type": "text"
      },
      "source": [
        "<a href=\"https://colab.research.google.com/github/miketreyu/data-science/blob/main/practica4_actualizada_sin_terminar(1).ipynb\" target=\"_parent\"><img src=\"https://colab.research.google.com/assets/colab-badge.svg\" alt=\"Open In Colab\"/></a>"
      ]
    },
    {
      "cell_type": "markdown",
      "source": [
        "# Práctica 4 - Clasificación\n",
        "\n",
        "Nombres:\n",
        "* Autor/a 1\n",
        "* Autor/a 2\n",
        "..."
      ],
      "metadata": {
        "id": "XhfcFWMDFjI3"
      }
    },
    {
      "cell_type": "markdown",
      "source": [
        "En esta práctica, tendréis que predecir la concesión de créditos de un banco. Tenéis los datasets abajo igual que en la práctica anterior.\n",
        "\n",
        "Esta vez, obligaremos a subir una submission a la competición de kaggle, con premio especial para:\n",
        "* Los ganadores de la competición\n",
        "* Todo aquel que supere la precisión obtenida por los mentores\n",
        "\n",
        "Podéis encontrar la URL de kaggle (donde se encuentran, entre otras cosas, los criterios de evaluación) aquí:\n",
        "https://www.kaggle.com/t/9c6fa1489e714d45889b013bd2abd267\n",
        "\n",
        "Suerte!"
      ],
      "metadata": {
        "id": "v_VR3cwaIpub"
      }
    },
    {
      "cell_type": "code",
      "execution_count": 2,
      "metadata": {
        "id": "v6chEdwm9GWd"
      },
      "outputs": [],
      "source": [
        "train_url = \"https://gist.githubusercontent.com/w-dan/5b1d67c4f507b2b826ed90bec372f1a4/raw/24679757c6bf9bcc74ef4d7944196a1f37b93eba/train3.csv\"\n",
        "test_url = \"https://gist.githubusercontent.com/w-dan/5b1d67c4f507b2b826ed90bec372f1a4/raw/24679757c6bf9bcc74ef4d7944196a1f37b93eba/test3.csv\""
      ]
    },
    {
      "cell_type": "markdown",
      "source": [
        "Un consejo para las submissions:"
      ],
      "metadata": {
        "id": "6BWj3rauIs0a"
      }
    },
    {
      "cell_type": "markdown",
      "source": [
        "Guardad la columna `ID` al principio, así podéis droppear sin riesgos\n",
        "\n",
        "\n",
        "```python\n",
        "df_test = pd.read_csv(test_url)\n",
        "submission = df_test[['ID']].copy()      # preparamos un dataframe con una columna 'ID'\n",
        "```\n"
      ],
      "metadata": {
        "id": "JXEHMjnJIwt7"
      }
    },
    {
      "cell_type": "markdown",
      "source": [
        "Y ahora, para montar la submission:\n",
        "\n",
        "```python\n",
        "mis_predicciones = mi_clasificador.predict(df_test)\n",
        "\n",
        "# al final del ejercicio, guardamos las predicciones en el dataframe 'submission' que creamos al principio\n",
        "submission['Credit_Score'] = y_pred_dftest\n",
        "\n",
        "# si habéis cambiado a números (algunos algoritmos lo requieren) la variable objetivo, revertid los cambios, por ejemplo, asi:\n",
        "submission.Credit_Score = submission.Credit_Score.replace({0: \"Poor\", 1: \"Standard\", 2: \"Good\"})\n",
        "\n",
        "```"
      ],
      "metadata": {
        "id": "Ym98_WE6JBZ9"
      }
    },
    {
      "cell_type": "markdown",
      "source": [
        "Para guardarla como csv y subirla a kaggle:\n",
        "\n",
        "```python\n",
        "submission.to_csv(\"./mi_submission.csv\", index=False)\n",
        "\n",
        "# o si usáis google colab, os dejo una forma cómoda de descargar el csv:\n",
        "from google.colab import files\n",
        "submission.to_csv('mi_submission.csv', index=False)\n",
        "files.download('mi_submission.csv')\n",
        "```\n",
        "\n",
        "Y directos a la cima del ranking :D\n",
        "\n",
        "\n",
        "¡Mucha suerte!"
      ],
      "metadata": {
        "id": "ylWihuvYJfbI"
      }
    },
    {
      "cell_type": "code",
      "source": [
        "import numpy as np\n",
        "import pandas as pd\n",
        "from sklearn.model_selection import train_test_split\n",
        "from sklearn.preprocessing import LabelEncoder, OneHotEncoder\n",
        "from sklearn.ensemble import RandomForestClassifier\n",
        "from sklearn.metrics import accuracy_score\n",
        "from sklearn.compose import ColumnTransformer\n",
        "from sklearn.pipeline import Pipeline\n",
        "from sklearn.impute import SimpleImputer\n",
        "# Si estás usando Google Colab, descomenta las siguientes líneas:\n",
        "# from google.colab import files\n",
        "# files.download('mi_submission.csv')\n"
      ],
      "metadata": {
        "id": "WkrnYjqCI7MV"
      },
      "execution_count": 12,
      "outputs": []
    },
    {
      "cell_type": "code",
      "source": [
        "train_url = \"https://gist.githubusercontent.com/w-dan/5b1d67c4f507b2b826ed90bec372f1a4/raw/24679757c6bf9bcc74ef4d7944196a1f37b93eba/train3.csv\"\n",
        "test_url = \"https://gist.githubusercontent.com/w-dan/5b1d67c4f507b2b826ed90bec372f1a4/raw/24679757c6bf9bcc74ef4d7944196a1f37b93eba/test3.csv\""
      ],
      "metadata": {
        "id": "3XmdulDB1BVn"
      },
      "execution_count": 13,
      "outputs": []
    },
    {
      "cell_type": "code",
      "source": [
        "df_train = pd.read_csv(train_url)\n",
        "df_test = pd.read_csv(test_url)"
      ],
      "metadata": {
        "id": "iHpnNlGZ1GQw"
      },
      "execution_count": 14,
      "outputs": []
    },
    {
      "cell_type": "code",
      "source": [
        "print(df_train.head())\n",
        "print(df_train.info())\n",
        "print(df_train.describe())"
      ],
      "metadata": {
        "colab": {
          "base_uri": "https://localhost:8080/"
        },
        "id": "_UkDgBS91KHY",
        "outputId": "99a13ed7-6477-4882-86ea-d8d4ac41212a"
      },
      "execution_count": 15,
      "outputs": [
        {
          "output_type": "stream",
          "name": "stdout",
          "text": [
            "       ID  Customer_ID  Month          Name   Age          SSN  Occupation  \\\n",
            "0   43161         3985      4     Lawrencez  40.0  856431180.0  Accountant   \n",
            "1   40663        49494      2     Mohammedr  39.0  417453942.0      Writer   \n",
            "2  111059         2925      6     Alistairn  17.0  499528888.0      Writer   \n",
            "3   72139        21358      2  Dinesh Naire  22.0  859449371.0      Doctor   \n",
            "4  119841        21221      4        Bakerg  26.0  485239890.0      Doctor   \n",
            "\n",
            "   Annual_Income  Monthly_Inhand_Salary  Num_Bank_Accounts  ...  Credit_Mix  \\\n",
            "0       97384.44            8167.370000                1.0  ...        Good   \n",
            "1       31369.58            2607.131667                8.0  ...         Bad   \n",
            "2       30171.86            2772.321667                6.0  ...         Bad   \n",
            "3       13100.02            1246.668333                7.0  ...    Standard   \n",
            "4       62313.54            5120.795000                6.0  ...    Standard   \n",
            "\n",
            "   Outstanding_Debt  Credit_Utilization_Ratio Credit_History_Age  \\\n",
            "0            405.45                 32.643281              336.0   \n",
            "1           4259.91                 39.375507              144.0   \n",
            "2           3406.51                 34.039021              123.0   \n",
            "3            727.29                 34.747262              129.0   \n",
            "4            817.64                 24.545394              122.0   \n",
            "\n",
            "   Payment_of_Min_Amount  Total_EMI_per_month  Amount_invested_monthly  \\\n",
            "0                     No            77.284943                53.714219   \n",
            "1                    Yes           171.748418                44.990811   \n",
            "2                    Yes           205.403926                40.781489   \n",
            "3                    Yes            41.177132                23.005463   \n",
            "4                     NM           196.679642                63.346750   \n",
            "\n",
            "                 Payment_Behaviour Monthly_Balance  Credit_Score  \n",
            "0  High_spent_Large_value_payments      847.172909      Standard  \n",
            "1  High_spent_Large_value_payments      280.855383      Standard  \n",
            "2  High_spent_Large_value_payments      247.322615      Standard  \n",
            "3   Low_spent_Large_value_payments      298.156832      Standard  \n",
            "4  Low_spent_Medium_value_payments      152.669902      Standard  \n",
            "\n",
            "[5 rows x 28 columns]\n",
            "<class 'pandas.core.frame.DataFrame'>\n",
            "RangeIndex: 65000 entries, 0 to 64999\n",
            "Data columns (total 28 columns):\n",
            " #   Column                    Non-Null Count  Dtype  \n",
            "---  ------                    --------------  -----  \n",
            " 0   ID                        65000 non-null  int64  \n",
            " 1   Customer_ID               65000 non-null  int64  \n",
            " 2   Month                     65000 non-null  int64  \n",
            " 3   Name                      65000 non-null  object \n",
            " 4   Age                       65000 non-null  float64\n",
            " 5   SSN                       65000 non-null  float64\n",
            " 6   Occupation                65000 non-null  object \n",
            " 7   Annual_Income             65000 non-null  float64\n",
            " 8   Monthly_Inhand_Salary     65000 non-null  float64\n",
            " 9   Num_Bank_Accounts         65000 non-null  float64\n",
            " 10  Num_Credit_Card           65000 non-null  float64\n",
            " 11  Interest_Rate             65000 non-null  float64\n",
            " 12  Num_of_Loan               65000 non-null  float64\n",
            " 13  Type_of_Loan              65000 non-null  object \n",
            " 14  Delay_from_due_date       65000 non-null  float64\n",
            " 15  Num_of_Delayed_Payment    65000 non-null  float64\n",
            " 16  Changed_Credit_Limit      65000 non-null  float64\n",
            " 17  Num_Credit_Inquiries      65000 non-null  float64\n",
            " 18  Credit_Mix                65000 non-null  object \n",
            " 19  Outstanding_Debt          65000 non-null  float64\n",
            " 20  Credit_Utilization_Ratio  65000 non-null  float64\n",
            " 21  Credit_History_Age        65000 non-null  float64\n",
            " 22  Payment_of_Min_Amount     65000 non-null  object \n",
            " 23  Total_EMI_per_month       65000 non-null  float64\n",
            " 24  Amount_invested_monthly   65000 non-null  float64\n",
            " 25  Payment_Behaviour         65000 non-null  object \n",
            " 26  Monthly_Balance           65000 non-null  float64\n",
            " 27  Credit_Score              65000 non-null  object \n",
            "dtypes: float64(18), int64(3), object(7)\n",
            "memory usage: 13.9+ MB\n",
            "None\n",
            "                  ID   Customer_ID         Month           Age           SSN  \\\n",
            "count   65000.000000  65000.000000  65000.000000  65000.000000  6.500000e+04   \n",
            "mean    80582.818338  25909.680800      4.496615     33.332938  5.016684e+08   \n",
            "std     43380.100352  14338.441145      2.288824     10.767961  2.909870e+08   \n",
            "min      5634.000000   1006.000000      1.000000     14.000000  8.134900e+04   \n",
            "25%     42849.750000  13611.000000      2.000000     24.000000  2.459726e+08   \n",
            "50%     80615.500000  25694.000000      4.000000     33.000000  5.018405e+08   \n",
            "75%    118242.250000  38294.500000      6.000000     42.000000  7.578611e+08   \n",
            "max    155628.000000  50999.000000      8.000000     56.000000  9.999934e+08   \n",
            "\n",
            "       Annual_Income  Monthly_Inhand_Salary  Num_Bank_Accounts  \\\n",
            "count   65000.000000           65000.000000       65000.000000   \n",
            "mean    50553.624835            4201.054035           5.364969   \n",
            "std     38393.086055            3194.022076           2.599514   \n",
            "min      7005.930000             303.645417           0.000000   \n",
            "25%     19292.962500            1622.668333           3.000000   \n",
            "50%     37045.780000            3097.624167           5.000000   \n",
            "75%     71716.600000            5967.333333           7.000000   \n",
            "max    179987.280000           15204.633333          11.000000   \n",
            "\n",
            "       Num_Credit_Card  Interest_Rate  ...  Delay_from_due_date  \\\n",
            "count     65000.000000   65000.000000  ...         65000.000000   \n",
            "mean          5.534138      14.542615  ...            21.045723   \n",
            "std           2.071597       8.722867  ...            14.803498   \n",
            "min           0.000000       1.000000  ...             0.000000   \n",
            "25%           4.000000       7.000000  ...            10.000000   \n",
            "50%           5.000000      13.000000  ...            18.000000   \n",
            "75%           7.000000      20.000000  ...            28.000000   \n",
            "max          11.000000      34.000000  ...            62.000000   \n",
            "\n",
            "       Num_of_Delayed_Payment  Changed_Credit_Limit  Num_Credit_Inquiries  \\\n",
            "count            65000.000000          65000.000000          65000.000000   \n",
            "mean                13.314538             10.487468              5.801092   \n",
            "std                  6.234610              6.611582              3.865421   \n",
            "min                  0.000000              0.500000              0.000000   \n",
            "25%                  9.000000              5.387500              3.000000   \n",
            "50%                 14.000000              9.415000              5.000000   \n",
            "75%                 18.000000             14.890000              8.000000   \n",
            "max                 25.000000             29.980000             17.000000   \n",
            "\n",
            "       Outstanding_Debt  Credit_Utilization_Ratio  Credit_History_Age  \\\n",
            "count      65000.000000              65000.000000        65000.000000   \n",
            "mean        1424.433559                 32.280608          221.276631   \n",
            "std         1153.739081                  5.117321           99.710648   \n",
            "min            0.230000                 20.000000            1.000000   \n",
            "25%          563.690000                 28.049877          145.000000   \n",
            "50%         1163.480000                 32.309206          220.000000   \n",
            "75%         1948.990000                 36.493410          302.000000   \n",
            "max         4998.070000                 50.000000          404.000000   \n",
            "\n",
            "       Total_EMI_per_month  Amount_invested_monthly  Monthly_Balance  \n",
            "count         65000.000000             65000.000000     65000.000000  \n",
            "mean            107.692840                55.161492       392.870710  \n",
            "std             131.291807                39.231742       201.864762  \n",
            "min               0.000000                 0.000000         0.366147  \n",
            "25%              29.236416                27.951315       267.473082  \n",
            "50%              66.723994                45.156838       333.918435  \n",
            "75%             148.059830                71.359231       462.859883  \n",
            "max            1779.103254               434.191089      1183.930696  \n",
            "\n",
            "[8 rows x 21 columns]\n"
          ]
        }
      ]
    },
    {
      "cell_type": "code",
      "source": [
        "df_train.fillna(method='ffill', inplace=True)\n",
        "df_test.fillna(method='ffill', inplace=True)"
      ],
      "metadata": {
        "id": "SL1yai4E1MTV"
      },
      "execution_count": 16,
      "outputs": []
    },
    {
      "cell_type": "code",
      "source": [
        "label_encoder = LabelEncoder()\n",
        "df_train['Credit_Score'] = label_encoder.fit_transform(df_train['Credit_Score'])"
      ],
      "metadata": {
        "id": "bQ8aghE-1PnK"
      },
      "execution_count": 17,
      "outputs": []
    },
    {
      "cell_type": "code",
      "source": [
        "X = df_train.drop(['Credit_Score', 'ID'], axis=1)\n",
        "y = df_train['Credit_Score']"
      ],
      "metadata": {
        "id": "huurFfBF1R1M"
      },
      "execution_count": 18,
      "outputs": []
    },
    {
      "cell_type": "code",
      "source": [
        "X_train, X_val, y_train, y_val = train_test_split(X, y, test_size=0.2, random_state=42)"
      ],
      "metadata": {
        "id": "fjXlA90A1Uqz"
      },
      "execution_count": 19,
      "outputs": []
    },
    {
      "cell_type": "code",
      "source": [
        "preprocessor = ColumnTransformer(\n",
        "    transformers=[\n",
        "        ('cat', OneHotEncoder(), categorical_features)\n",
        "    ],\n",
        "    remainder='passthrough'\n",
        ")"
      ],
      "metadata": {
        "colab": {
          "base_uri": "https://localhost:8080/",
          "height": 211
        },
        "id": "_KSYz43J3YJ5",
        "outputId": "fb8bc508-18c7-4825-c00f-247cfc78d96f"
      },
      "execution_count": 20,
      "outputs": [
        {
          "output_type": "error",
          "ename": "NameError",
          "evalue": "name 'categorical_features' is not defined",
          "traceback": [
            "\u001b[0;31m---------------------------------------------------------------------------\u001b[0m",
            "\u001b[0;31mNameError\u001b[0m                                 Traceback (most recent call last)",
            "\u001b[0;32m<ipython-input-20-31935f16109e>\u001b[0m in \u001b[0;36m<cell line: 1>\u001b[0;34m()\u001b[0m\n\u001b[1;32m      1\u001b[0m preprocessor = ColumnTransformer(\n\u001b[1;32m      2\u001b[0m     transformers=[\n\u001b[0;32m----> 3\u001b[0;31m         \u001b[0;34m(\u001b[0m\u001b[0;34m'cat'\u001b[0m\u001b[0;34m,\u001b[0m \u001b[0mOneHotEncoder\u001b[0m\u001b[0;34m(\u001b[0m\u001b[0;34m)\u001b[0m\u001b[0;34m,\u001b[0m \u001b[0mcategorical_features\u001b[0m\u001b[0;34m)\u001b[0m\u001b[0;34m\u001b[0m\u001b[0;34m\u001b[0m\u001b[0m\n\u001b[0m\u001b[1;32m      4\u001b[0m     ],\n\u001b[1;32m      5\u001b[0m     \u001b[0mremainder\u001b[0m\u001b[0;34m=\u001b[0m\u001b[0;34m'passthrough'\u001b[0m\u001b[0;34m\u001b[0m\u001b[0;34m\u001b[0m\u001b[0m\n",
            "\u001b[0;31mNameError\u001b[0m: name 'categorical_features' is not defined"
          ]
        }
      ]
    },
    {
      "cell_type": "code",
      "source": [
        "model = RandomForestClassifier(n_estimators=100, random_state=42)\n",
        "model.fit(X_train, y_train)"
      ],
      "metadata": {
        "colab": {
          "base_uri": "https://localhost:8080/",
          "height": 304
        },
        "id": "EsOF3O8a1XLz",
        "outputId": "c363b253-f7c7-417c-c202-860c362c4808"
      },
      "execution_count": 10,
      "outputs": [
        {
          "output_type": "error",
          "ename": "ValueError",
          "evalue": "could not convert string to float: 'Gregs'",
          "traceback": [
            "\u001b[0;31m---------------------------------------------------------------------------\u001b[0m",
            "\u001b[0;31mValueError\u001b[0m                                Traceback (most recent call last)",
            "\u001b[0;32m<ipython-input-10-8edc4bb83147>\u001b[0m in \u001b[0;36m<cell line: 2>\u001b[0;34m()\u001b[0m\n\u001b[1;32m      1\u001b[0m \u001b[0mmodel\u001b[0m \u001b[0;34m=\u001b[0m \u001b[0mRandomForestClassifier\u001b[0m\u001b[0;34m(\u001b[0m\u001b[0mn_estimators\u001b[0m\u001b[0;34m=\u001b[0m\u001b[0;36m100\u001b[0m\u001b[0;34m,\u001b[0m \u001b[0mrandom_state\u001b[0m\u001b[0;34m=\u001b[0m\u001b[0;36m42\u001b[0m\u001b[0;34m)\u001b[0m\u001b[0;34m\u001b[0m\u001b[0;34m\u001b[0m\u001b[0m\n\u001b[0;32m----> 2\u001b[0;31m \u001b[0mmodel\u001b[0m\u001b[0;34m.\u001b[0m\u001b[0mfit\u001b[0m\u001b[0;34m(\u001b[0m\u001b[0mX_train\u001b[0m\u001b[0;34m,\u001b[0m \u001b[0my_train\u001b[0m\u001b[0;34m)\u001b[0m\u001b[0;34m\u001b[0m\u001b[0;34m\u001b[0m\u001b[0m\n\u001b[0m",
            "\u001b[0;32m/usr/local/lib/python3.10/dist-packages/sklearn/ensemble/_forest.py\u001b[0m in \u001b[0;36mfit\u001b[0;34m(self, X, y, sample_weight)\u001b[0m\n\u001b[1;32m    343\u001b[0m         \u001b[0;32mif\u001b[0m \u001b[0missparse\u001b[0m\u001b[0;34m(\u001b[0m\u001b[0my\u001b[0m\u001b[0;34m)\u001b[0m\u001b[0;34m:\u001b[0m\u001b[0;34m\u001b[0m\u001b[0;34m\u001b[0m\u001b[0m\n\u001b[1;32m    344\u001b[0m             \u001b[0;32mraise\u001b[0m \u001b[0mValueError\u001b[0m\u001b[0;34m(\u001b[0m\u001b[0;34m\"sparse multilabel-indicator for y is not supported.\"\u001b[0m\u001b[0;34m)\u001b[0m\u001b[0;34m\u001b[0m\u001b[0;34m\u001b[0m\u001b[0m\n\u001b[0;32m--> 345\u001b[0;31m         X, y = self._validate_data(\n\u001b[0m\u001b[1;32m    346\u001b[0m             \u001b[0mX\u001b[0m\u001b[0;34m,\u001b[0m \u001b[0my\u001b[0m\u001b[0;34m,\u001b[0m \u001b[0mmulti_output\u001b[0m\u001b[0;34m=\u001b[0m\u001b[0;32mTrue\u001b[0m\u001b[0;34m,\u001b[0m \u001b[0maccept_sparse\u001b[0m\u001b[0;34m=\u001b[0m\u001b[0;34m\"csc\"\u001b[0m\u001b[0;34m,\u001b[0m \u001b[0mdtype\u001b[0m\u001b[0;34m=\u001b[0m\u001b[0mDTYPE\u001b[0m\u001b[0;34m\u001b[0m\u001b[0;34m\u001b[0m\u001b[0m\n\u001b[1;32m    347\u001b[0m         )\n",
            "\u001b[0;32m/usr/local/lib/python3.10/dist-packages/sklearn/base.py\u001b[0m in \u001b[0;36m_validate_data\u001b[0;34m(self, X, y, reset, validate_separately, **check_params)\u001b[0m\n\u001b[1;32m    582\u001b[0m                 \u001b[0my\u001b[0m \u001b[0;34m=\u001b[0m \u001b[0mcheck_array\u001b[0m\u001b[0;34m(\u001b[0m\u001b[0my\u001b[0m\u001b[0;34m,\u001b[0m \u001b[0minput_name\u001b[0m\u001b[0;34m=\u001b[0m\u001b[0;34m\"y\"\u001b[0m\u001b[0;34m,\u001b[0m \u001b[0;34m**\u001b[0m\u001b[0mcheck_y_params\u001b[0m\u001b[0;34m)\u001b[0m\u001b[0;34m\u001b[0m\u001b[0;34m\u001b[0m\u001b[0m\n\u001b[1;32m    583\u001b[0m             \u001b[0;32melse\u001b[0m\u001b[0;34m:\u001b[0m\u001b[0;34m\u001b[0m\u001b[0;34m\u001b[0m\u001b[0m\n\u001b[0;32m--> 584\u001b[0;31m                 \u001b[0mX\u001b[0m\u001b[0;34m,\u001b[0m \u001b[0my\u001b[0m \u001b[0;34m=\u001b[0m \u001b[0mcheck_X_y\u001b[0m\u001b[0;34m(\u001b[0m\u001b[0mX\u001b[0m\u001b[0;34m,\u001b[0m \u001b[0my\u001b[0m\u001b[0;34m,\u001b[0m \u001b[0;34m**\u001b[0m\u001b[0mcheck_params\u001b[0m\u001b[0;34m)\u001b[0m\u001b[0;34m\u001b[0m\u001b[0;34m\u001b[0m\u001b[0m\n\u001b[0m\u001b[1;32m    585\u001b[0m             \u001b[0mout\u001b[0m \u001b[0;34m=\u001b[0m \u001b[0mX\u001b[0m\u001b[0;34m,\u001b[0m \u001b[0my\u001b[0m\u001b[0;34m\u001b[0m\u001b[0;34m\u001b[0m\u001b[0m\n\u001b[1;32m    586\u001b[0m \u001b[0;34m\u001b[0m\u001b[0m\n",
            "\u001b[0;32m/usr/local/lib/python3.10/dist-packages/sklearn/utils/validation.py\u001b[0m in \u001b[0;36mcheck_X_y\u001b[0;34m(X, y, accept_sparse, accept_large_sparse, dtype, order, copy, force_all_finite, ensure_2d, allow_nd, multi_output, ensure_min_samples, ensure_min_features, y_numeric, estimator)\u001b[0m\n\u001b[1;32m   1104\u001b[0m         )\n\u001b[1;32m   1105\u001b[0m \u001b[0;34m\u001b[0m\u001b[0m\n\u001b[0;32m-> 1106\u001b[0;31m     X = check_array(\n\u001b[0m\u001b[1;32m   1107\u001b[0m         \u001b[0mX\u001b[0m\u001b[0;34m,\u001b[0m\u001b[0;34m\u001b[0m\u001b[0;34m\u001b[0m\u001b[0m\n\u001b[1;32m   1108\u001b[0m         \u001b[0maccept_sparse\u001b[0m\u001b[0;34m=\u001b[0m\u001b[0maccept_sparse\u001b[0m\u001b[0;34m,\u001b[0m\u001b[0;34m\u001b[0m\u001b[0;34m\u001b[0m\u001b[0m\n",
            "\u001b[0;32m/usr/local/lib/python3.10/dist-packages/sklearn/utils/validation.py\u001b[0m in \u001b[0;36mcheck_array\u001b[0;34m(array, accept_sparse, accept_large_sparse, dtype, order, copy, force_all_finite, ensure_2d, allow_nd, ensure_min_samples, ensure_min_features, estimator, input_name)\u001b[0m\n\u001b[1;32m    877\u001b[0m                     \u001b[0marray\u001b[0m \u001b[0;34m=\u001b[0m \u001b[0mxp\u001b[0m\u001b[0;34m.\u001b[0m\u001b[0mastype\u001b[0m\u001b[0;34m(\u001b[0m\u001b[0marray\u001b[0m\u001b[0;34m,\u001b[0m \u001b[0mdtype\u001b[0m\u001b[0;34m,\u001b[0m \u001b[0mcopy\u001b[0m\u001b[0;34m=\u001b[0m\u001b[0;32mFalse\u001b[0m\u001b[0;34m)\u001b[0m\u001b[0;34m\u001b[0m\u001b[0;34m\u001b[0m\u001b[0m\n\u001b[1;32m    878\u001b[0m                 \u001b[0;32melse\u001b[0m\u001b[0;34m:\u001b[0m\u001b[0;34m\u001b[0m\u001b[0;34m\u001b[0m\u001b[0m\n\u001b[0;32m--> 879\u001b[0;31m                     \u001b[0marray\u001b[0m \u001b[0;34m=\u001b[0m \u001b[0m_asarray_with_order\u001b[0m\u001b[0;34m(\u001b[0m\u001b[0marray\u001b[0m\u001b[0;34m,\u001b[0m \u001b[0morder\u001b[0m\u001b[0;34m=\u001b[0m\u001b[0morder\u001b[0m\u001b[0;34m,\u001b[0m \u001b[0mdtype\u001b[0m\u001b[0;34m=\u001b[0m\u001b[0mdtype\u001b[0m\u001b[0;34m,\u001b[0m \u001b[0mxp\u001b[0m\u001b[0;34m=\u001b[0m\u001b[0mxp\u001b[0m\u001b[0;34m)\u001b[0m\u001b[0;34m\u001b[0m\u001b[0;34m\u001b[0m\u001b[0m\n\u001b[0m\u001b[1;32m    880\u001b[0m             \u001b[0;32mexcept\u001b[0m \u001b[0mComplexWarning\u001b[0m \u001b[0;32mas\u001b[0m \u001b[0mcomplex_warning\u001b[0m\u001b[0;34m:\u001b[0m\u001b[0;34m\u001b[0m\u001b[0;34m\u001b[0m\u001b[0m\n\u001b[1;32m    881\u001b[0m                 raise ValueError(\n",
            "\u001b[0;32m/usr/local/lib/python3.10/dist-packages/sklearn/utils/_array_api.py\u001b[0m in \u001b[0;36m_asarray_with_order\u001b[0;34m(array, dtype, order, copy, xp)\u001b[0m\n\u001b[1;32m    183\u001b[0m     \u001b[0;32mif\u001b[0m \u001b[0mxp\u001b[0m\u001b[0;34m.\u001b[0m\u001b[0m__name__\u001b[0m \u001b[0;32min\u001b[0m \u001b[0;34m{\u001b[0m\u001b[0;34m\"numpy\"\u001b[0m\u001b[0;34m,\u001b[0m \u001b[0;34m\"numpy.array_api\"\u001b[0m\u001b[0;34m}\u001b[0m\u001b[0;34m:\u001b[0m\u001b[0;34m\u001b[0m\u001b[0;34m\u001b[0m\u001b[0m\n\u001b[1;32m    184\u001b[0m         \u001b[0;31m# Use NumPy API to support order\u001b[0m\u001b[0;34m\u001b[0m\u001b[0;34m\u001b[0m\u001b[0m\n\u001b[0;32m--> 185\u001b[0;31m         \u001b[0marray\u001b[0m \u001b[0;34m=\u001b[0m \u001b[0mnumpy\u001b[0m\u001b[0;34m.\u001b[0m\u001b[0masarray\u001b[0m\u001b[0;34m(\u001b[0m\u001b[0marray\u001b[0m\u001b[0;34m,\u001b[0m \u001b[0morder\u001b[0m\u001b[0;34m=\u001b[0m\u001b[0morder\u001b[0m\u001b[0;34m,\u001b[0m \u001b[0mdtype\u001b[0m\u001b[0;34m=\u001b[0m\u001b[0mdtype\u001b[0m\u001b[0;34m)\u001b[0m\u001b[0;34m\u001b[0m\u001b[0;34m\u001b[0m\u001b[0m\n\u001b[0m\u001b[1;32m    186\u001b[0m         \u001b[0;32mreturn\u001b[0m \u001b[0mxp\u001b[0m\u001b[0;34m.\u001b[0m\u001b[0masarray\u001b[0m\u001b[0;34m(\u001b[0m\u001b[0marray\u001b[0m\u001b[0;34m,\u001b[0m \u001b[0mcopy\u001b[0m\u001b[0;34m=\u001b[0m\u001b[0mcopy\u001b[0m\u001b[0;34m)\u001b[0m\u001b[0;34m\u001b[0m\u001b[0;34m\u001b[0m\u001b[0m\n\u001b[1;32m    187\u001b[0m     \u001b[0;32melse\u001b[0m\u001b[0;34m:\u001b[0m\u001b[0;34m\u001b[0m\u001b[0;34m\u001b[0m\u001b[0m\n",
            "\u001b[0;32m/usr/local/lib/python3.10/dist-packages/pandas/core/generic.py\u001b[0m in \u001b[0;36m__array__\u001b[0;34m(self, dtype)\u001b[0m\n\u001b[1;32m   1996\u001b[0m     \u001b[0;32mdef\u001b[0m \u001b[0m__array__\u001b[0m\u001b[0;34m(\u001b[0m\u001b[0mself\u001b[0m\u001b[0;34m,\u001b[0m \u001b[0mdtype\u001b[0m\u001b[0;34m:\u001b[0m \u001b[0mnpt\u001b[0m\u001b[0;34m.\u001b[0m\u001b[0mDTypeLike\u001b[0m \u001b[0;34m|\u001b[0m \u001b[0;32mNone\u001b[0m \u001b[0;34m=\u001b[0m \u001b[0;32mNone\u001b[0m\u001b[0;34m)\u001b[0m \u001b[0;34m->\u001b[0m \u001b[0mnp\u001b[0m\u001b[0;34m.\u001b[0m\u001b[0mndarray\u001b[0m\u001b[0;34m:\u001b[0m\u001b[0;34m\u001b[0m\u001b[0;34m\u001b[0m\u001b[0m\n\u001b[1;32m   1997\u001b[0m         \u001b[0mvalues\u001b[0m \u001b[0;34m=\u001b[0m \u001b[0mself\u001b[0m\u001b[0;34m.\u001b[0m\u001b[0m_values\u001b[0m\u001b[0;34m\u001b[0m\u001b[0;34m\u001b[0m\u001b[0m\n\u001b[0;32m-> 1998\u001b[0;31m         \u001b[0marr\u001b[0m \u001b[0;34m=\u001b[0m \u001b[0mnp\u001b[0m\u001b[0;34m.\u001b[0m\u001b[0masarray\u001b[0m\u001b[0;34m(\u001b[0m\u001b[0mvalues\u001b[0m\u001b[0;34m,\u001b[0m \u001b[0mdtype\u001b[0m\u001b[0;34m=\u001b[0m\u001b[0mdtype\u001b[0m\u001b[0;34m)\u001b[0m\u001b[0;34m\u001b[0m\u001b[0;34m\u001b[0m\u001b[0m\n\u001b[0m\u001b[1;32m   1999\u001b[0m         if (\n\u001b[1;32m   2000\u001b[0m             \u001b[0mastype_is_view\u001b[0m\u001b[0;34m(\u001b[0m\u001b[0mvalues\u001b[0m\u001b[0;34m.\u001b[0m\u001b[0mdtype\u001b[0m\u001b[0;34m,\u001b[0m \u001b[0marr\u001b[0m\u001b[0;34m.\u001b[0m\u001b[0mdtype\u001b[0m\u001b[0;34m)\u001b[0m\u001b[0;34m\u001b[0m\u001b[0;34m\u001b[0m\u001b[0m\n",
            "\u001b[0;31mValueError\u001b[0m: could not convert string to float: 'Gregs'"
          ]
        }
      ]
    },
    {
      "cell_type": "code",
      "source": [
        "y_pred = model.predict(X_val)\n",
        "accuracy = accuracy_score(y_val, y_pred)\n",
        "print(f'Accuracy: {accuracy * 100:.2f}%')"
      ],
      "metadata": {
        "id": "KJI51njH1Zhz"
      },
      "execution_count": null,
      "outputs": []
    },
    {
      "cell_type": "code",
      "source": [
        "X_test = df_test.drop(['ID'], axis=1)\n",
        "y_pred_test = model.predict(X_test)"
      ],
      "metadata": {
        "id": "4LU7Z3gh1cXj"
      },
      "execution_count": null,
      "outputs": []
    },
    {
      "cell_type": "code",
      "source": [
        "submission = df_test[['ID']].copy()\n",
        "submission['Credit_Score'] = y_pred_test"
      ],
      "metadata": {
        "id": "H5zwMvas1ehu"
      },
      "execution_count": null,
      "outputs": []
    },
    {
      "cell_type": "code",
      "source": [
        "submission['Credit_Score'] = label_encoder.inverse_transform(submission['Credit_Score'])"
      ],
      "metadata": {
        "id": "Ub8BQXuZ1hCZ"
      },
      "execution_count": null,
      "outputs": []
    },
    {
      "cell_type": "code",
      "source": [
        "submission.to_csv(\"./mi_submission.csv\", index=False)"
      ],
      "metadata": {
        "id": "L3F6rIwk1jW8"
      },
      "execution_count": null,
      "outputs": []
    }
  ]
}