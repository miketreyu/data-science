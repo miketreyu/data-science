{
  "cells": [
    {
      "cell_type": "code",
      "execution_count": null,
      "metadata": {
        "id": "zuW9SAZIsXoK"
      },
      "outputs": [],
      "source": [
        "import numpy as np\n",
        "import pandas as pd"
      ]
    },
    {
      "cell_type": "markdown",
      "metadata": {
        "id": "vNJJAQVSqU0F"
      },
      "source": [
        "# Ejercicios de NumPy y pandas\n",
        "\n",
        "Estos ejercicios están pensados para que probéis de primera mano las capacidades de las librerías NumPy y pandas."
      ]
    },
    {
      "cell_type": "markdown",
      "metadata": {
        "id": "iUUKhLecq5gc"
      },
      "source": [
        "## Ejercicios de NumPy"
      ]
    },
    {
      "cell_type": "markdown",
      "metadata": {
        "id": "IIc-xukPq7Lp"
      },
      "source": [
        "### 1 - Creación de arrays\n",
        "\n",
        "a) Crea un array vacío en numpy de dimensiones 3×6"
      ]
    },
    {
      "cell_type": "code",
      "execution_count": 6,
      "metadata": {
        "colab": {
          "base_uri": "https://localhost:8080/"
        },
        "id": "7ae7FAVYqRCI",
        "outputId": "266bc247-e1bb-44fd-ad81-11103693373c"
      },
      "outputs": [
        {
          "output_type": "stream",
          "name": "stdout",
          "text": [
            "[[0. 0. 0. 0. 0. 0.]\n",
            " [0. 0. 0. 0. 0. 0.]\n",
            " [0. 0. 0. 0. 0. 0.]]\n"
          ]
        }
      ],
      "source": [
        "import numpy as np\n",
        "\n",
        "arr = np.empty((3, 6))\n",
        "\n",
        "print(arr)"
      ]
    },
    {
      "cell_type": "markdown",
      "metadata": {
        "id": "GuIkBbobscuW"
      },
      "source": [
        "b) Repite el apartado a, pero llénalo con un número, como por ejemplo el `0`."
      ]
    },
    {
      "cell_type": "code",
      "execution_count": 7,
      "metadata": {
        "colab": {
          "base_uri": "https://localhost:8080/"
        },
        "id": "w79FhgCnsXIx",
        "outputId": "af5b058b-67f2-4bba-aa78-019607cd05ff"
      },
      "outputs": [
        {
          "output_type": "stream",
          "name": "stdout",
          "text": [
            "[[0. 0. 0. 0. 0. 0.]\n",
            " [0. 0. 0. 0. 0. 0.]\n",
            " [0. 0. 0. 0. 0. 0.]]\n"
          ]
        }
      ],
      "source": [
        "import numpy as np\n",
        "\n",
        "arr = np.zeros((3, 6))\n",
        "\n",
        "print(arr)"
      ]
    },
    {
      "cell_type": "markdown",
      "metadata": {
        "id": "PjT9pLcRs_0d"
      },
      "source": [
        "### 2 - Comprobación de valores en un array\n",
        "\n",
        "Dado el array `arr`:"
      ]
    },
    {
      "cell_type": "code",
      "execution_count": null,
      "metadata": {
        "id": "Yr66dfW5tlqy"
      },
      "outputs": [],
      "source": [
        "arr = np.array([[5, 2, 0],\n",
        "                [4, 3, 7]])"
      ]
    },
    {
      "cell_type": "markdown",
      "metadata": {
        "id": "ZO0zpTt-tp1t"
      },
      "source": [
        "a) Comprueba con `numpy` si contiene el número 6"
      ]
    },
    {
      "cell_type": "code",
      "execution_count": 17,
      "metadata": {
        "colab": {
          "base_uri": "https://localhost:8080/"
        },
        "id": "_yCQUDVFsjR_",
        "outputId": "6d14ebb1-dd03-47ea-8382-113d6dc40514"
      },
      "outputs": [
        {
          "output_type": "stream",
          "name": "stdout",
          "text": [
            "el número 6 no está en el array\n"
          ]
        }
      ],
      "source": [
        "arr = np.array([[5, 2, 0],\n",
        "                [4, 3, 7]])\n",
        "num = 6\n",
        "if np.any(arr == num):\n",
        "  print('el número', num ,'está en el array')\n",
        "else:\n",
        "  print('el número', num ,'no está en el array')\n"
      ]
    },
    {
      "cell_type": "markdown",
      "metadata": {
        "id": "LBZAydyqv3Fz"
      },
      "source": [
        "b) Comprueba con `numpy` si contiene el número 4"
      ]
    },
    {
      "cell_type": "code",
      "execution_count": 18,
      "metadata": {
        "colab": {
          "base_uri": "https://localhost:8080/"
        },
        "id": "pLZBIhaRv1yK",
        "outputId": "ba850b19-d3e7-4bea-e756-20c0e94966fe"
      },
      "outputs": [
        {
          "output_type": "stream",
          "name": "stdout",
          "text": [
            "el número 4 está en el array\n"
          ]
        }
      ],
      "source": [
        "arr = np.array([[5, 2, 0],\n",
        "                [4, 3, 7]])\n",
        "num = 4\n",
        "if np.any(arr == num):\n",
        "  print('el número', num ,'está en el array')\n",
        "else:\n",
        "  print('el número', num ,'no está en el array')\n"
      ]
    },
    {
      "cell_type": "markdown",
      "metadata": {
        "id": "Zvv3DD3qwD8A"
      },
      "source": [
        "### 3 - Operaciones con numpy arrays"
      ]
    },
    {
      "cell_type": "markdown",
      "metadata": {
        "id": "IcmcwebAwOnm"
      },
      "source": [
        "a) Reduce la siguiente matriz (array de 2 dimensiones) a una dimensión:"
      ]
    },
    {
      "cell_type": "code",
      "execution_count": 27,
      "metadata": {
        "colab": {
          "base_uri": "https://localhost:8080/"
        },
        "id": "a1JmssC4wJTg",
        "outputId": "281ea087-7884-4219-bb00-3f830aa538d4"
      },
      "outputs": [
        {
          "output_type": "stream",
          "name": "stdout",
          "text": [
            "Array unidimensional:\n",
            " [2 3 4 5]\n",
            "\n"
          ]
        }
      ],
      "source": [
        "mat = np.array([[2, 3], [4, 5]])\n",
        "array_1d = mat.flatten()\n",
        "print(f\"Array unidimensional:\\n {array_1d}\\n\")"
      ]
    },
    {
      "cell_type": "markdown",
      "metadata": {
        "id": "jt4vlpvSw_Ul"
      },
      "source": [
        "b) Dados los vectores (arrays de 1 dimensión) `v_a` y `v_b`, calcula, **SIN USAR BUCLES**:\n",
        "- `v_a` + `v_b` (elemento a elemento)\n",
        "- `v_a` * `v_b` (elemento a elemento)\n",
        "- Su producto escalar (dot product)   "
      ]
    },
    {
      "cell_type": "code",
      "execution_count": 30,
      "metadata": {
        "colab": {
          "base_uri": "https://localhost:8080/"
        },
        "id": "mM1Q6Ei6wXdO",
        "outputId": "78916479-2bb6-4915-97e3-01d53b12c6c6"
      },
      "outputs": [
        {
          "output_type": "stream",
          "name": "stdout",
          "text": [
            "[14 14 14]\n",
            "[48 45 24]\n"
          ]
        }
      ],
      "source": [
        "v_a = np.array([6, 9, 12])\n",
        "v_b = np.array([8, 5, 2])\n",
        "\n",
        "suma = v_a + v_b\n",
        "print(suma)\n",
        "multiplicacion = v_a * v_b\n",
        "print(multiplicacion)"
      ]
    },
    {
      "cell_type": "code",
      "execution_count": null,
      "metadata": {
        "id": "ia6HUpwwxur1"
      },
      "outputs": [],
      "source": []
    },
    {
      "cell_type": "markdown",
      "metadata": {
        "id": "48B6RRgIyr0a"
      },
      "source": [
        "## Ejercicios de pandas\n",
        "\n",
        "Trabajaremos sobre un ejemplo de `DataFrame` que contiene datos sobre pilotos de fórmula 1.\n",
        "\n",
        "Contamos con los siguientes datos:\n",
        "\n",
        "|   Driver Name   | Number of Victories |  Country   |\n",
        "|:---------------:|:-------------------:|:----------:|\n",
        "|    Hamilton     |         103         |     UK     |\n",
        "|   Schumacher    |         91          |  Germany   |\n",
        "|    Raikkonen    |         26          |  Finland   |\n",
        "|     Alonso      |         32          |   Spain    |\n",
        "|     Vettel      |         53          |  Germany   |\n",
        "|      Sainz      |         2           |   Spain    |\n",
        "|    Hakkinen     |         20          |  Finland   |\n",
        "|      Senna      |         41          |  Brazil    |\n",
        "|   Verstappen    |         54          |Netherlands|\n",
        "|   Fittipaldi    |         14          |  Brazil    |"
      ]
    },
    {
      "cell_type": "markdown",
      "metadata": {
        "id": "dVeJUl3jyxNB"
      },
      "source": [
        "### 1 - Creación de DataFrames\n",
        "\n",
        "Empezaremos creando un dataframe sobre el que operar fijándonos en el DataFrame del ejemplo anterior.\n",
        "\n",
        "Dada la siguiente lista bidimensional (matriz) y el array de nombres de columnas, crea el DataFrame mencionado anteriormente con `pandas`:"
      ]
    },
    {
      "cell_type": "code",
      "execution_count": 28,
      "metadata": {
        "colab": {
          "base_uri": "https://localhost:8080/"
        },
        "id": "8l7ms-OzytVo",
        "outputId": "e69f256b-747f-4537-ceb6-9adae3596a56"
      },
      "outputs": [
        {
          "output_type": "stream",
          "name": "stdout",
          "text": [
            "   Driver Name  Number of Victories      Country\n",
            "0     Hamilton                103.0           UK\n",
            "1   Schumacher                 91.0      Germany\n",
            "2    Raikkonen                 26.0      Finland\n",
            "3       Alonso                 32.0        Spain\n",
            "4       Vettel                 53.0      Germany\n",
            "5        Sainz                  2.0        Spain\n",
            "6     Hakkinen                 20.0      Finland\n",
            "7        Senna                 41.0       Brazil\n",
            "8   Verstappen                 54.0  Netherlands\n",
            "9   Fittipaldi                 14.0       Brazil\n",
            "10        None                  NaN         None\n",
            "11       Sainz                  2.0        Spain\n"
          ]
        }
      ],
      "source": [
        "import pandas as pd\n",
        "\n",
        "drivers = [['Hamilton', 103, 'UK'], ['Schumacher', 91, 'Germany'],\n",
        "           ['Raikkonen', 26, 'Finland'], ['Alonso', 32, 'Spain'],\n",
        "           ['Vettel', 53, 'Germany'], ['Sainz', 2, 'Spain'],\n",
        "           ['Hakkinen', 20, 'Finland'], ['Senna', 41, 'Brazil'],\n",
        "           ['Verstappen', 54, 'Netherlands'], ['Fittipaldi', 14, 'Brazil'],     # Sí, Fittipaldi existe\n",
        "           [None, None, None], ['Sainz', 2, 'Spain']]\n",
        "\n",
        "column_names = ['Driver Name', 'Number of Victories', 'Country']\n",
        "\n",
        "df = pd.DataFrame(drivers, columns = column_names)\n",
        "print(df)"
      ]
    },
    {
      "cell_type": "markdown",
      "metadata": {
        "id": "vYVNUlhV4UWt"
      },
      "source": [
        "### 2 - Selección de filas basada en condiciones\n",
        "\n",
        "- *Anotación: puedes obtener los resultados de estos apartados en el formato que prefieras, no importa si es array o dataframe*"
      ]
    },
    {
      "cell_type": "markdown",
      "metadata": {
        "id": "7TCO0dNK4XIG"
      },
      "source": [
        "a) ¿Qué piloto tiene el mayor número de victorias? ¿Y el menor?\n",
        "\n",
        "- *Pista: puedes usar los métodos idxmax e idxmin*\n",
        "\n",
        "\n"
      ]
    },
    {
      "cell_type": "code",
      "execution_count": 32,
      "metadata": {
        "colab": {
          "base_uri": "https://localhost:8080/"
        },
        "id": "9Hr3fNw42T2C",
        "outputId": "367f3585-4b9e-4f1e-e9ee-b67ceae9374a"
      },
      "outputs": [
        {
          "output_type": "stream",
          "name": "stdout",
          "text": [
            "   Driver Name  Number of Victories      Country\n",
            "0     Hamilton                103.0           UK\n",
            "1   Schumacher                 91.0      Germany\n",
            "2    Raikkonen                 26.0      Finland\n",
            "3       Alonso                 32.0        Spain\n",
            "4       Vettel                 53.0      Germany\n",
            "5        Sainz                  2.0        Spain\n",
            "6     Hakkinen                 20.0      Finland\n",
            "7        Senna                 41.0       Brazil\n",
            "8   Verstappen                 54.0  Netherlands\n",
            "9   Fittipaldi                 14.0       Brazil\n",
            "10        None                  NaN         None\n",
            "11       Sainz                  2.0        Spain\n",
            "0\n",
            "5\n",
            "Piloto con más victorias: Hamilton\n",
            "Piloto con menos victorias: Sainz\n"
          ]
        }
      ],
      "source": [
        "import pandas as pd\n",
        "\n",
        "drivers = [['Hamilton', 103, 'UK'], ['Schumacher', 91, 'Germany'],\n",
        "           ['Raikkonen', 26, 'Finland'], ['Alonso', 32, 'Spain'],\n",
        "           ['Vettel', 53, 'Germany'], ['Sainz', 2, 'Spain'],\n",
        "           ['Hakkinen', 20, 'Finland'], ['Senna', 41, 'Brazil'],\n",
        "           ['Verstappen', 54, 'Netherlands'], ['Fittipaldi', 14, 'Brazil'],     # Sí, Fittipaldi existe\n",
        "           [None, None, None], ['Sainz', 2, 'Spain']]\n",
        "\n",
        "column_names = ['Driver Name', 'Number of Victories', 'Country']\n",
        "\n",
        "df = pd.DataFrame(drivers, columns = column_names)\n",
        "print(df)\n",
        "\n",
        "indice_maximo = df['Number of Victories'].idxmax()\n",
        "\n",
        "indice_minimo = df['Number of Victories'].idxmin()\n",
        "\n",
        "piloto_mas_victorias = df['Driver Name'].iloc[indice_maximo]\n",
        "\n",
        "piloto_menos_victorias = df['Driver Name'].iloc[indice_minimo]\n",
        "print(indice_maximo)\n",
        "print(indice_minimo)\n",
        "print(f\"Piloto con más victorias: {piloto_mas_victorias}\")\n",
        "print(f\"Piloto con menos victorias: {piloto_menos_victorias}\")\n",
        "\n",
        "\n"
      ]
    },
    {
      "cell_type": "markdown",
      "metadata": {
        "id": "rh1axHC-4bNM"
      },
      "source": [
        "b) Obtén los pilotos con más de 20 victorias."
      ]
    },
    {
      "cell_type": "code",
      "execution_count": 42,
      "metadata": {
        "colab": {
          "base_uri": "https://localhost:8080/"
        },
        "id": "ECLyebOS4eeb",
        "outputId": "66b1c396-1610-4339-fe0b-8943f8376339"
      },
      "outputs": [
        {
          "output_type": "stream",
          "name": "stdout",
          "text": [
            "  Driver Name  Number of Victories      Country\n",
            "0    Hamilton                103.0           UK\n",
            "1  Schumacher                 91.0      Germany\n",
            "2   Raikkonen                 26.0      Finland\n",
            "3      Alonso                 32.0        Spain\n",
            "4      Vettel                 53.0      Germany\n",
            "7       Senna                 41.0       Brazil\n",
            "8  Verstappen                 54.0  Netherlands\n"
          ]
        }
      ],
      "source": [
        "df_mas_de_20_victorias = df[df['Number of Victories'] > 20]\n",
        "\n",
        "print(df_mas_de_20_victorias)"
      ]
    },
    {
      "cell_type": "markdown",
      "metadata": {
        "id": "m7G7zPkc69yw"
      },
      "source": [
        "c) ¿Cuántos pilotos finlandeses hay?"
      ]
    },
    {
      "cell_type": "code",
      "execution_count": 43,
      "metadata": {
        "colab": {
          "base_uri": "https://localhost:8080/"
        },
        "id": "UIuV-ysL7ABy",
        "outputId": "0f269517-00ad-4c45-dfe3-6132cfd48c3a"
      },
      "outputs": [
        {
          "output_type": "stream",
          "name": "stdout",
          "text": [
            "  Driver Name  Number of Victories  Country\n",
            "2   Raikkonen                 26.0  Finland\n",
            "6    Hakkinen                 20.0  Finland\n"
          ]
        }
      ],
      "source": [
        "df_pilotos_finlandeses = df[df['Country'] == 'Finland']\n",
        "print(df_pilotos_finlandeses)"
      ]
    },
    {
      "cell_type": "markdown",
      "metadata": {
        "id": "WkBpC_uK30WC"
      },
      "source": [
        "### 3 - Una pequeña introducción a limpieza de datos\n",
        "\n",
        "Vaya... Parece que se han colado valores nulos en nuestro DataFrame. De esta forma no podremos operar con él en el futuro, vamos a hacer una pequeña limpieza en dos pasos.\n",
        "\n",
        "\n",
        "*Importante: Esto es un pequeño adelanto del tema de preprocesamiento, así que os daremos alguna pista*"
      ]
    },
    {
      "cell_type": "markdown",
      "metadata": {
        "id": "xavcfFnW4v8H"
      },
      "source": [
        "a) Empecemos eliminando los valores nulos por ser los más problemáticos. Podríamos usar el método `dropna` de pandas."
      ]
    },
    {
      "cell_type": "code",
      "execution_count": 45,
      "metadata": {
        "colab": {
          "base_uri": "https://localhost:8080/"
        },
        "id": "nSA6H-K3403G",
        "outputId": "f3442c3c-fbe8-434f-84e9-f499e16ff67d"
      },
      "outputs": [
        {
          "output_type": "stream",
          "name": "stdout",
          "text": [
            "   Driver Name  Number of Victories      Country\n",
            "0     Hamilton                103.0           UK\n",
            "1   Schumacher                 91.0      Germany\n",
            "2    Raikkonen                 26.0      Finland\n",
            "3       Alonso                 32.0        Spain\n",
            "4       Vettel                 53.0      Germany\n",
            "5        Sainz                  2.0        Spain\n",
            "6     Hakkinen                 20.0      Finland\n",
            "7        Senna                 41.0       Brazil\n",
            "8   Verstappen                 54.0  Netherlands\n",
            "9   Fittipaldi                 14.0       Brazil\n",
            "11       Sainz                  2.0        Spain\n"
          ]
        }
      ],
      "source": [
        "df = df.dropna()\n",
        "\n",
        "print(df)"
      ]
    },
    {
      "cell_type": "markdown",
      "metadata": {
        "id": "cnFIxjED5QzI"
      },
      "source": [
        "b) Ahora queda una pregunta... ¿Hace falta que el número de victorias tenga decimales? No se puede ganar media carrera... Como es un poco difícil de mirar, podríamos convertirlo a enteros.\n",
        "\n",
        "De esta manera podemos ilustrar una gran comodidad que ofrece pandas: cambiar de tipo una columna entera (en el futuro, es posible que os encontréis columnas que vienen en un formato que no es, por ejemplo números en forma de string)."
      ]
    },
    {
      "cell_type": "code",
      "execution_count": 46,
      "metadata": {
        "colab": {
          "base_uri": "https://localhost:8080/",
          "height": 394
        },
        "id": "isTy3JfV5hwC",
        "outputId": "935e50c7-7848-441a-aa38-7ff8c183d63b"
      },
      "outputs": [
        {
          "output_type": "execute_result",
          "data": {
            "text/plain": [
              "   Driver Name  Number of Victories      Country\n",
              "0     Hamilton                  103           UK\n",
              "1   Schumacher                   91      Germany\n",
              "2    Raikkonen                   26      Finland\n",
              "3       Alonso                   32        Spain\n",
              "4       Vettel                   53      Germany\n",
              "5        Sainz                    2        Spain\n",
              "6     Hakkinen                   20      Finland\n",
              "7        Senna                   41       Brazil\n",
              "8   Verstappen                   54  Netherlands\n",
              "9   Fittipaldi                   14       Brazil\n",
              "11       Sainz                    2        Spain"
            ],
            "text/html": [
              "\n",
              "  <div id=\"df-d8b0f075-5665-422f-b04f-727665db6ebd\" class=\"colab-df-container\">\n",
              "    <div>\n",
              "<style scoped>\n",
              "    .dataframe tbody tr th:only-of-type {\n",
              "        vertical-align: middle;\n",
              "    }\n",
              "\n",
              "    .dataframe tbody tr th {\n",
              "        vertical-align: top;\n",
              "    }\n",
              "\n",
              "    .dataframe thead th {\n",
              "        text-align: right;\n",
              "    }\n",
              "</style>\n",
              "<table border=\"1\" class=\"dataframe\">\n",
              "  <thead>\n",
              "    <tr style=\"text-align: right;\">\n",
              "      <th></th>\n",
              "      <th>Driver Name</th>\n",
              "      <th>Number of Victories</th>\n",
              "      <th>Country</th>\n",
              "    </tr>\n",
              "  </thead>\n",
              "  <tbody>\n",
              "    <tr>\n",
              "      <th>0</th>\n",
              "      <td>Hamilton</td>\n",
              "      <td>103</td>\n",
              "      <td>UK</td>\n",
              "    </tr>\n",
              "    <tr>\n",
              "      <th>1</th>\n",
              "      <td>Schumacher</td>\n",
              "      <td>91</td>\n",
              "      <td>Germany</td>\n",
              "    </tr>\n",
              "    <tr>\n",
              "      <th>2</th>\n",
              "      <td>Raikkonen</td>\n",
              "      <td>26</td>\n",
              "      <td>Finland</td>\n",
              "    </tr>\n",
              "    <tr>\n",
              "      <th>3</th>\n",
              "      <td>Alonso</td>\n",
              "      <td>32</td>\n",
              "      <td>Spain</td>\n",
              "    </tr>\n",
              "    <tr>\n",
              "      <th>4</th>\n",
              "      <td>Vettel</td>\n",
              "      <td>53</td>\n",
              "      <td>Germany</td>\n",
              "    </tr>\n",
              "    <tr>\n",
              "      <th>5</th>\n",
              "      <td>Sainz</td>\n",
              "      <td>2</td>\n",
              "      <td>Spain</td>\n",
              "    </tr>\n",
              "    <tr>\n",
              "      <th>6</th>\n",
              "      <td>Hakkinen</td>\n",
              "      <td>20</td>\n",
              "      <td>Finland</td>\n",
              "    </tr>\n",
              "    <tr>\n",
              "      <th>7</th>\n",
              "      <td>Senna</td>\n",
              "      <td>41</td>\n",
              "      <td>Brazil</td>\n",
              "    </tr>\n",
              "    <tr>\n",
              "      <th>8</th>\n",
              "      <td>Verstappen</td>\n",
              "      <td>54</td>\n",
              "      <td>Netherlands</td>\n",
              "    </tr>\n",
              "    <tr>\n",
              "      <th>9</th>\n",
              "      <td>Fittipaldi</td>\n",
              "      <td>14</td>\n",
              "      <td>Brazil</td>\n",
              "    </tr>\n",
              "    <tr>\n",
              "      <th>11</th>\n",
              "      <td>Sainz</td>\n",
              "      <td>2</td>\n",
              "      <td>Spain</td>\n",
              "    </tr>\n",
              "  </tbody>\n",
              "</table>\n",
              "</div>\n",
              "    <div class=\"colab-df-buttons\">\n",
              "\n",
              "  <div class=\"colab-df-container\">\n",
              "    <button class=\"colab-df-convert\" onclick=\"convertToInteractive('df-d8b0f075-5665-422f-b04f-727665db6ebd')\"\n",
              "            title=\"Convert this dataframe to an interactive table.\"\n",
              "            style=\"display:none;\">\n",
              "\n",
              "  <svg xmlns=\"http://www.w3.org/2000/svg\" height=\"24px\" viewBox=\"0 -960 960 960\">\n",
              "    <path d=\"M120-120v-720h720v720H120Zm60-500h600v-160H180v160Zm220 220h160v-160H400v160Zm0 220h160v-160H400v160ZM180-400h160v-160H180v160Zm440 0h160v-160H620v160ZM180-180h160v-160H180v160Zm440 0h160v-160H620v160Z\"/>\n",
              "  </svg>\n",
              "    </button>\n",
              "\n",
              "  <style>\n",
              "    .colab-df-container {\n",
              "      display:flex;\n",
              "      gap: 12px;\n",
              "    }\n",
              "\n",
              "    .colab-df-convert {\n",
              "      background-color: #E8F0FE;\n",
              "      border: none;\n",
              "      border-radius: 50%;\n",
              "      cursor: pointer;\n",
              "      display: none;\n",
              "      fill: #1967D2;\n",
              "      height: 32px;\n",
              "      padding: 0 0 0 0;\n",
              "      width: 32px;\n",
              "    }\n",
              "\n",
              "    .colab-df-convert:hover {\n",
              "      background-color: #E2EBFA;\n",
              "      box-shadow: 0px 1px 2px rgba(60, 64, 67, 0.3), 0px 1px 3px 1px rgba(60, 64, 67, 0.15);\n",
              "      fill: #174EA6;\n",
              "    }\n",
              "\n",
              "    .colab-df-buttons div {\n",
              "      margin-bottom: 4px;\n",
              "    }\n",
              "\n",
              "    [theme=dark] .colab-df-convert {\n",
              "      background-color: #3B4455;\n",
              "      fill: #D2E3FC;\n",
              "    }\n",
              "\n",
              "    [theme=dark] .colab-df-convert:hover {\n",
              "      background-color: #434B5C;\n",
              "      box-shadow: 0px 1px 3px 1px rgba(0, 0, 0, 0.15);\n",
              "      filter: drop-shadow(0px 1px 2px rgba(0, 0, 0, 0.3));\n",
              "      fill: #FFFFFF;\n",
              "    }\n",
              "  </style>\n",
              "\n",
              "    <script>\n",
              "      const buttonEl =\n",
              "        document.querySelector('#df-d8b0f075-5665-422f-b04f-727665db6ebd button.colab-df-convert');\n",
              "      buttonEl.style.display =\n",
              "        google.colab.kernel.accessAllowed ? 'block' : 'none';\n",
              "\n",
              "      async function convertToInteractive(key) {\n",
              "        const element = document.querySelector('#df-d8b0f075-5665-422f-b04f-727665db6ebd');\n",
              "        const dataTable =\n",
              "          await google.colab.kernel.invokeFunction('convertToInteractive',\n",
              "                                                    [key], {});\n",
              "        if (!dataTable) return;\n",
              "\n",
              "        const docLinkHtml = 'Like what you see? Visit the ' +\n",
              "          '<a target=\"_blank\" href=https://colab.research.google.com/notebooks/data_table.ipynb>data table notebook</a>'\n",
              "          + ' to learn more about interactive tables.';\n",
              "        element.innerHTML = '';\n",
              "        dataTable['output_type'] = 'display_data';\n",
              "        await google.colab.output.renderOutput(dataTable, element);\n",
              "        const docLink = document.createElement('div');\n",
              "        docLink.innerHTML = docLinkHtml;\n",
              "        element.appendChild(docLink);\n",
              "      }\n",
              "    </script>\n",
              "  </div>\n",
              "\n",
              "\n",
              "<div id=\"df-16a121a6-9a66-4645-ab91-a3dd4b2ea6b8\">\n",
              "  <button class=\"colab-df-quickchart\" onclick=\"quickchart('df-16a121a6-9a66-4645-ab91-a3dd4b2ea6b8')\"\n",
              "            title=\"Suggest charts\"\n",
              "            style=\"display:none;\">\n",
              "\n",
              "<svg xmlns=\"http://www.w3.org/2000/svg\" height=\"24px\"viewBox=\"0 0 24 24\"\n",
              "     width=\"24px\">\n",
              "    <g>\n",
              "        <path d=\"M19 3H5c-1.1 0-2 .9-2 2v14c0 1.1.9 2 2 2h14c1.1 0 2-.9 2-2V5c0-1.1-.9-2-2-2zM9 17H7v-7h2v7zm4 0h-2V7h2v10zm4 0h-2v-4h2v4z\"/>\n",
              "    </g>\n",
              "</svg>\n",
              "  </button>\n",
              "\n",
              "<style>\n",
              "  .colab-df-quickchart {\n",
              "      --bg-color: #E8F0FE;\n",
              "      --fill-color: #1967D2;\n",
              "      --hover-bg-color: #E2EBFA;\n",
              "      --hover-fill-color: #174EA6;\n",
              "      --disabled-fill-color: #AAA;\n",
              "      --disabled-bg-color: #DDD;\n",
              "  }\n",
              "\n",
              "  [theme=dark] .colab-df-quickchart {\n",
              "      --bg-color: #3B4455;\n",
              "      --fill-color: #D2E3FC;\n",
              "      --hover-bg-color: #434B5C;\n",
              "      --hover-fill-color: #FFFFFF;\n",
              "      --disabled-bg-color: #3B4455;\n",
              "      --disabled-fill-color: #666;\n",
              "  }\n",
              "\n",
              "  .colab-df-quickchart {\n",
              "    background-color: var(--bg-color);\n",
              "    border: none;\n",
              "    border-radius: 50%;\n",
              "    cursor: pointer;\n",
              "    display: none;\n",
              "    fill: var(--fill-color);\n",
              "    height: 32px;\n",
              "    padding: 0;\n",
              "    width: 32px;\n",
              "  }\n",
              "\n",
              "  .colab-df-quickchart:hover {\n",
              "    background-color: var(--hover-bg-color);\n",
              "    box-shadow: 0 1px 2px rgba(60, 64, 67, 0.3), 0 1px 3px 1px rgba(60, 64, 67, 0.15);\n",
              "    fill: var(--button-hover-fill-color);\n",
              "  }\n",
              "\n",
              "  .colab-df-quickchart-complete:disabled,\n",
              "  .colab-df-quickchart-complete:disabled:hover {\n",
              "    background-color: var(--disabled-bg-color);\n",
              "    fill: var(--disabled-fill-color);\n",
              "    box-shadow: none;\n",
              "  }\n",
              "\n",
              "  .colab-df-spinner {\n",
              "    border: 2px solid var(--fill-color);\n",
              "    border-color: transparent;\n",
              "    border-bottom-color: var(--fill-color);\n",
              "    animation:\n",
              "      spin 1s steps(1) infinite;\n",
              "  }\n",
              "\n",
              "  @keyframes spin {\n",
              "    0% {\n",
              "      border-color: transparent;\n",
              "      border-bottom-color: var(--fill-color);\n",
              "      border-left-color: var(--fill-color);\n",
              "    }\n",
              "    20% {\n",
              "      border-color: transparent;\n",
              "      border-left-color: var(--fill-color);\n",
              "      border-top-color: var(--fill-color);\n",
              "    }\n",
              "    30% {\n",
              "      border-color: transparent;\n",
              "      border-left-color: var(--fill-color);\n",
              "      border-top-color: var(--fill-color);\n",
              "      border-right-color: var(--fill-color);\n",
              "    }\n",
              "    40% {\n",
              "      border-color: transparent;\n",
              "      border-right-color: var(--fill-color);\n",
              "      border-top-color: var(--fill-color);\n",
              "    }\n",
              "    60% {\n",
              "      border-color: transparent;\n",
              "      border-right-color: var(--fill-color);\n",
              "    }\n",
              "    80% {\n",
              "      border-color: transparent;\n",
              "      border-right-color: var(--fill-color);\n",
              "      border-bottom-color: var(--fill-color);\n",
              "    }\n",
              "    90% {\n",
              "      border-color: transparent;\n",
              "      border-bottom-color: var(--fill-color);\n",
              "    }\n",
              "  }\n",
              "</style>\n",
              "\n",
              "  <script>\n",
              "    async function quickchart(key) {\n",
              "      const quickchartButtonEl =\n",
              "        document.querySelector('#' + key + ' button');\n",
              "      quickchartButtonEl.disabled = true;  // To prevent multiple clicks.\n",
              "      quickchartButtonEl.classList.add('colab-df-spinner');\n",
              "      try {\n",
              "        const charts = await google.colab.kernel.invokeFunction(\n",
              "            'suggestCharts', [key], {});\n",
              "      } catch (error) {\n",
              "        console.error('Error during call to suggestCharts:', error);\n",
              "      }\n",
              "      quickchartButtonEl.classList.remove('colab-df-spinner');\n",
              "      quickchartButtonEl.classList.add('colab-df-quickchart-complete');\n",
              "    }\n",
              "    (() => {\n",
              "      let quickchartButtonEl =\n",
              "        document.querySelector('#df-16a121a6-9a66-4645-ab91-a3dd4b2ea6b8 button');\n",
              "      quickchartButtonEl.style.display =\n",
              "        google.colab.kernel.accessAllowed ? 'block' : 'none';\n",
              "    })();\n",
              "  </script>\n",
              "</div>\n",
              "    </div>\n",
              "  </div>\n"
            ],
            "application/vnd.google.colaboratory.intrinsic+json": {
              "type": "dataframe",
              "variable_name": "df",
              "summary": "{\n  \"name\": \"df\",\n  \"rows\": 11,\n  \"fields\": [\n    {\n      \"column\": \"Driver Name\",\n      \"properties\": {\n        \"dtype\": \"string\",\n        \"samples\": [\n          \"Verstappen\",\n          \"Schumacher\",\n          \"Sainz\"\n        ],\n        \"num_unique_values\": 10,\n        \"semantic_type\": \"\",\n        \"description\": \"\"\n      }\n    },\n    {\n      \"column\": \"Number of Victories\",\n      \"properties\": {\n        \"dtype\": \"number\",\n        \"std\": 33,\n        \"min\": 2,\n        \"max\": 103,\n        \"samples\": [\n          54,\n          91,\n          2\n        ],\n        \"num_unique_values\": 10,\n        \"semantic_type\": \"\",\n        \"description\": \"\"\n      }\n    },\n    {\n      \"column\": \"Country\",\n      \"properties\": {\n        \"dtype\": \"string\",\n        \"samples\": [\n          \"UK\",\n          \"Germany\",\n          \"Netherlands\"\n        ],\n        \"num_unique_values\": 6,\n        \"semantic_type\": \"\",\n        \"description\": \"\"\n      }\n    }\n  ]\n}"
            }
          },
          "metadata": {},
          "execution_count": 46
        }
      ],
      "source": [
        "# Este os lo damos hecho como ejemplo\n",
        "\n",
        "df['Number of Victories'] = df['Number of Victories'].astype(int)\n",
        "\n",
        "df"
      ]
    },
    {
      "cell_type": "markdown",
      "metadata": {
        "id": "JMG-SgHq60JS"
      },
      "source": [
        "¡Ya está! Nuestro dataframe es legible y podemos trabajar con él porque no contiene valores nulos."
      ]
    }
  ],
  "metadata": {
    "colab": {
      "provenance": []
    },
    "kernelspec": {
      "display_name": "Python 3",
      "name": "python3"
    },
    "language_info": {
      "codemirror_mode": {
        "name": "ipython",
        "version": 3
      },
      "file_extension": ".py",
      "mimetype": "text/x-python",
      "name": "python",
      "nbconvert_exporter": "python",
      "pygments_lexer": "ipython3",
      "version": "3.12.1"
    }
  },
  "nbformat": 4,
  "nbformat_minor": 0
}